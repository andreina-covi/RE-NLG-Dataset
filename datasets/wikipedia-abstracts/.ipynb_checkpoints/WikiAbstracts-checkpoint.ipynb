{
 "cells": [
  {
   "cell_type": "code",
   "execution_count": 1,
   "metadata": {
    "collapsed": true
   },
   "outputs": [],
   "source": [
    "from __future__ import print_function\n",
    "import re\n",
    "import sys\n",
    "import cPickle as pickle"
   ]
  },
  {
   "cell_type": "code",
   "execution_count": 2,
   "metadata": {
    "collapsed": false
   },
   "outputs": [],
   "source": [
    "datasetDirectory = './Wikipedia Abstracts/Data/'\n",
    "hashDirectory = './Wikipedia Abstracts/hashTable.p'\n",
    "def generateCheckpoint(hashedDataset, dataset, fileNumber, end):\n",
    "    print('\\r{} items have been processed... '.format((fileNumber - 1) * 500000 + len(dataset)), end='')\n",
    "    if end is False and len(dataset) % 500000 == 0 and len(dataset) > 0:\n",
    "        fileLocation = datasetDirectory + ('%d.p' % (fileNumber))\n",
    "        # Comment-out for better performance.\n",
    "        # pickle.dump(hashedDataset, open( hashDirectory, \"wb\" ) )\n",
    "        pickle.dump(dataset, open(fileLocation, \"wb\" ) )\n",
    "        print('Checkpoint file has been successfully stored at: %s...' % (fileLocation))\n",
    "        del dataset [:]\n",
    "        fileNumber += 1\n",
    "    elif end is True:\n",
    "        fileLocation = datasetDirectory + ('%d.p' % (fileNumber))\n",
    "        pickle.dump(hashedDataset, open( hashDirectory, \"wb\" ) )\n",
    "        pickle.dump(dataset, open(fileLocation, \"wb\" ) )\n",
    "        print('Last checkpoint file has been successfully stored at: %s...' % (fileLocation))\n",
    "        del dataset [:]\n",
    "    return fileNumber"
   ]
  },
  {
   "cell_type": "code",
   "execution_count": 4,
   "metadata": {
    "collapsed": false
   },
   "outputs": [
    {
     "ename": "IOError",
     "evalue": "[Errno 2] No such file or directory: '../Wikipedia Abstracts/long_abstracts_en.tql'",
     "output_type": "error",
     "traceback": [
      "\u001b[0;31m---------------------------------------------------------------------------\u001b[0m",
      "\u001b[0;31mIOError\u001b[0m                                   Traceback (most recent call last)",
      "\u001b[0;32m<ipython-input-4-2475f6fb6ab8>\u001b[0m in \u001b[0;36m<module>\u001b[0;34m()\u001b[0m\n\u001b[1;32m      3\u001b[0m \u001b[0mitem2pos\u001b[0m \u001b[0;34m=\u001b[0m \u001b[0;34m{\u001b[0m\u001b[0;34m}\u001b[0m\u001b[0;34m\u001b[0m\u001b[0m\n\u001b[1;32m      4\u001b[0m \u001b[0mfileNumber\u001b[0m \u001b[0;34m=\u001b[0m \u001b[0;36m1\u001b[0m\u001b[0;34m\u001b[0m\u001b[0m\n\u001b[0;32m----> 5\u001b[0;31m \u001b[0;32mwith\u001b[0m \u001b[0mopen\u001b[0m\u001b[0;34m(\u001b[0m\u001b[0mabstractsDirectory\u001b[0m\u001b[0;34m)\u001b[0m \u001b[0;32mas\u001b[0m \u001b[0mabstractsFile\u001b[0m\u001b[0;34m:\u001b[0m\u001b[0;34m\u001b[0m\u001b[0m\n\u001b[0m\u001b[1;32m      6\u001b[0m     \u001b[0mlinePageTitle\u001b[0m \u001b[0;34m=\u001b[0m \u001b[0;34m''\u001b[0m\u001b[0;34m\u001b[0m\u001b[0m\n\u001b[1;32m      7\u001b[0m     \u001b[0;32mfor\u001b[0m \u001b[0mline\u001b[0m \u001b[0;32min\u001b[0m \u001b[0mabstractsFile\u001b[0m\u001b[0;34m:\u001b[0m\u001b[0;34m\u001b[0m\u001b[0m\n",
      "\u001b[0;31mIOError\u001b[0m: [Errno 2] No such file or directory: '../Wikipedia Abstracts/long_abstracts_en.tql'"
     ]
    }
   ],
   "source": [
    "abstractsDirectory = './Wikipedia Abstracts/long_abstracts_en.tql' \n",
    "items = []\n",
    "item2pos = {}\n",
    "fileNumber = 1\n",
    "with open(abstractsDirectory) as abstractsFile:\n",
    "    linePageTitle = ''\n",
    "    for line in abstractsFile:\n",
    "        line = line.split()\n",
    "        tempSubject = line[0]\n",
    "        tempUrl = line[-2]\n",
    "        \n",
    "        line[0] = ''\n",
    "        line[-2] = ''\n",
    "        line = ' '.join(line)\n",
    "        tempObject = re.findall(r\"(?<=\\\")(.*)(?=\\\"@en)\", line)\n",
    "        if len(tempObject) == 0: tempObject = re.findall(r\"(?<=\\\")(.*)(?=\\\"\\^\\^)\", line)\n",
    "\n",
    "\n",
    "        if len(tempObject) > 0:\n",
    "            tempPageTitle = re.findall(r\"(?<=en\\.wikipedia\\.org\\/wiki\\/)(.*)(?=\\?oldid=)\", tempUrl)[0]\n",
    "            if linePageTitle != tempPageTitle:\n",
    "                fileNumber = generateCheckpoint(item2pos, items, fileNumber, False)\n",
    "                \n",
    "\n",
    "                items.append({'formalPageTitle': tempPageTitle})\n",
    "                items[len(items) - 1]['summary'] = tempObject[0]\n",
    "                items[len(items) - 1]['url'] = re.sub(r'\\?oldid=.*$', '', tempUrl[1:-1])\n",
    "                item2pos[tempPageTitle] = [('%d.p' % (fileNumber)), len(items) - 1]\n",
    "                linePageTitle = tempPageTitle\n",
    "        else:\n",
    "            print (line)\n",
    "    generateCheckpoint(item2pos, items, fileNumber, True)"
   ]
  },
  {
   "cell_type": "code",
   "execution_count": null,
   "metadata": {
    "collapsed": true
   },
   "outputs": [],
   "source": []
  }
 ],
 "metadata": {
  "kernelspec": {
   "display_name": "Python 2",
   "language": "python",
   "name": "python2"
  },
  "language_info": {
   "codemirror_mode": {
    "name": "ipython",
    "version": 2
   },
   "file_extension": ".py",
   "mimetype": "text/x-python",
   "name": "python",
   "nbconvert_exporter": "python",
   "pygments_lexer": "ipython2",
   "version": "2.7.13"
  }
 },
 "nbformat": 4,
 "nbformat_minor": 1
}
